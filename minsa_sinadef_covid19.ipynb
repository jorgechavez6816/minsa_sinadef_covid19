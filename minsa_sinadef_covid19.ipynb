{
 "cells": [
  {
   "cell_type": "code",
   "execution_count": 1,
   "metadata": {},
   "outputs": [
    {
     "name": "stderr",
     "output_type": "stream",
     "text": [
      "C:\\ProgramData\\Anaconda3\\lib\\site-packages\\IPython\\core\\interactiveshell.py:3063: DtypeWarning: Columns (0,13,14) have mixed types.Specify dtype option on import or set low_memory=False.\n",
      "  interactivity=interactivity, compiler=compiler, result=result)\n"
     ]
    }
   ],
   "source": [
    "#Procedimiento automatizado de descarga de datos\n",
    "#Fallecidos: MINSA: Sinadef - Covid\n",
    "#https://www.datosabiertos.gob.pe/dataset/informaci%C3%B3n-de-fallecidos-del-sistema-inform%C3%A1tico-nacional-de-defunciones-sinadef-ministerio\n",
    "#https://www.datosabiertos.gob.pe/dataset/fallecidos-por-covid-19-ministerio-de-salud-minsa    \n",
    "\n",
    "# 01. Librerías a utilizar\n",
    "from urllib.request import urlopen\n",
    "from zipfile import ZipFile\n",
    "import pandas as pd\n",
    "\n",
    "# 02. Descarga del Minsa - SINADEF\n",
    "url = 'https://cloud.minsa.gob.pe/s/nqF2irNbFomCLaa/download'\n",
    "df1= pd.read_csv(url, sep=\";\", encoding=\"latin-1\" )   \n",
    "df1.to_csv('D:\\\\Caseware_IDEA\\\\Capacitaciones\\\\Caso50_MInsa\\\\Archivos fuente.ILB\\\\fallecidos_sinadef.csv', encoding=\"utf-8\")\n",
    "\n",
    "# 03. Descarga del Minsa - Covid19\n",
    "url2 = \"https://cloud.minsa.gob.pe/s/Md37cjXmjT9qYSa/download\"\n",
    "df2= pd.read_csv(url2, sep=\";\" , encoding='latin-1') \n",
    "df2.to_csv('D:\\\\Caseware_IDEA\\\\Capacitaciones\\\\Caso50_Minsa\\\\Archivos fuente.ILB\\\\fallecidos_covid.csv', encoding=\"utf-8\")\n"
   ]
  },
  {
   "cell_type": "code",
   "execution_count": null,
   "metadata": {},
   "outputs": [],
   "source": []
  }
 ],
 "metadata": {
  "kernelspec": {
   "display_name": "Python 3",
   "language": "python",
   "name": "python3"
  },
  "language_info": {
   "codemirror_mode": {
    "name": "ipython",
    "version": 3
   },
   "file_extension": ".py",
   "mimetype": "text/x-python",
   "name": "python",
   "nbconvert_exporter": "python",
   "pygments_lexer": "ipython3",
   "version": "3.7.6"
  }
 },
 "nbformat": 4,
 "nbformat_minor": 4
}
